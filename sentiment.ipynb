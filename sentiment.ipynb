{
 "cells": [
  {
   "cell_type": "markdown",
   "id": "c7a748e5",
   "metadata": {},
   "source": [
    "# Sentiment analysis on document level\n"
   ]
  },
  {
   "cell_type": "markdown",
   "id": "77f820dd",
   "metadata": {},
   "source": [
    "## Base Line for binary classification"
   ]
  },
  {
   "cell_type": "code",
   "execution_count": 18,
   "id": "9cd53c36",
   "metadata": {},
   "outputs": [
    {
     "name": "stderr",
     "output_type": "stream",
     "text": [
      "No model was supplied, defaulted to distilbert/distilbert-base-uncased-finetuned-sst-2-english and revision 714eb0f (https://huggingface.co/distilbert/distilbert-base-uncased-finetuned-sst-2-english).\n",
      "Using a pipeline without specifying a model name and revision in production is not recommended.\n"
     ]
    },
    {
     "name": "stderr",
     "output_type": "stream",
     "text": [
      "Device set to use mps:0\n"
     ]
    }
   ],
   "source": [
    "from transformers import pipeline\n",
    "import numpy as np\n",
    "\n",
    "sentiment_pipeline = pipeline(\"sentiment-analysis\")"
   ]
  },
  {
   "cell_type": "code",
   "execution_count": 32,
   "id": "8385c194",
   "metadata": {},
   "outputs": [],
   "source": [
    "def load_data(file_path):\n",
    "    with open(file_path, 'r') as file:\n",
    "        return file.read()"
   ]
  },
  {
   "cell_type": "code",
   "execution_count": 33,
   "id": "95a4dae7",
   "metadata": {},
   "outputs": [],
   "source": [
    "text_whole = load_data(\"/Users/danielbischoff/Documents/MasterInformatik/MSE/Best-search-engine-in-the-world/sentiment_text/Experience_a_postcard_delivered_121_years_late_led_me_to_my_long-lost_family.txt\")"
   ]
  },
  {
   "cell_type": "code",
   "execution_count": 2,
   "id": "d99df2d8",
   "metadata": {},
   "outputs": [],
   "source": [
    "# load data from a file as junks inta array\n",
    "\n",
    "def load_data_as_chunks(file_path):\n",
    "    with open(file_path, 'r') as file:\n",
    "        data = file.readlines()\n",
    "    return [line.strip() for line in data if line.strip()]\n"
   ]
  },
  {
   "cell_type": "code",
   "execution_count": null,
   "id": "c6e460c5",
   "metadata": {},
   "outputs": [],
   "source": [
    "import pickle as pkl\n",
    "\n",
    "# load pickle file and split\n",
    "def load_pickle(file_path):\n",
    "    with open(file_path, 'rb') as file:\n",
    "        return pkl.load(file)\n",
    "    \n",
    "def join_data(tokens, chunk_size=512):\n",
    "    return [' '.join(tokens[i:i+chunk_size]) for i in range(0, len(tokens), chunk_size)]\n",
    "        \n",
    "\n",
    "data = load_pickle(\"/Users/danielbischoff/Documents/MasterInformatik/MSE/Best-search-engine-in-the-world/test_data/crawled_data.pkl\")"
   ]
  },
  {
   "cell_type": "code",
   "execution_count": 128,
   "id": "6900f92b",
   "metadata": {},
   "outputs": [],
   "source": [
    "test_data = join_data(data[33][\"tokens\"], chunk_size=120)"
   ]
  },
  {
   "cell_type": "code",
   "execution_count": 157,
   "id": "e0a7a8a7",
   "metadata": {},
   "outputs": [],
   "source": [
    "np.random.seed(0)\n",
    "# natural random numbers for testing\n",
    "random_scores = np.unique(np.random.randint(0, len(test_data), 10))\n",
    "test_data_split = [test_data[i] for i in random_scores]"
   ]
  },
  {
   "cell_type": "code",
   "execution_count": 161,
   "id": "c2f88441",
   "metadata": {},
   "outputs": [
    {
     "data": {
      "text/plain": [
       "9"
      ]
     },
     "execution_count": 161,
     "metadata": {},
     "output_type": "execute_result"
    }
   ],
   "source": [
    "len(test_data_split)"
   ]
  },
  {
   "cell_type": "code",
   "execution_count": 162,
   "id": "0ea3447a",
   "metadata": {},
   "outputs": [],
   "source": [
    "\n",
    "def document_sentiment_analysis_binary(data : list[str], pipeline=sentiment_pipeline, seed= 0, random_aprox=False):\n",
    "\n",
    "    doc_analysis = {}\n",
    "\n",
    "    if random_aprox:\n",
    "\n",
    "        np.random.seed(seed)\n",
    "        # natural random numbers for testing\n",
    "        random_scores = np.unique(np.random.randint(0, len(data), 10))\n",
    "        data = [test_data[i] for i in random_scores]\n",
    "\n",
    "    analysis = pipeline(data)\n",
    "\n",
    "    if analysis[\"label\" == \"NEGATIVE\"] != None:\n",
    "        negative_prob = np.sum([doc_analysis[\"score\"] for doc_analysis in analysis if doc_analysis[\"label\"] == \"NEGATIVE\" ]) / len(analysis)\n",
    "    else:\n",
    "        negative_prob = 0\n",
    "    if analysis[\"label\" == \"POSITIVE\"] != None:\n",
    "        positive_prob = np.sum([doc_analysis[\"score\"] for doc_analysis in analysis if doc_analysis[\"label\"] == \"POSITIVE\" ])  / len(analysis)\n",
    "    else:\n",
    "        positive_prob = 0\n",
    "\n",
    "    if negative_prob > positive_prob:\n",
    "        doc_analysis[\"label\"] = \"NEGATIVE\"\n",
    "        doc_analysis[\"score\"] = negative_prob\n",
    "    else:\n",
    "        doc_analysis[\"label\"] = \"POSITIVE\"\n",
    "        doc_analysis[\"score\"] = positive_prob\n",
    "\n",
    "    return doc_analysis"
   ]
  },
  {
   "cell_type": "code",
   "execution_count": 166,
   "id": "f1fa6512",
   "metadata": {},
   "outputs": [],
   "source": [
    "analysis = document_sentiment_analysis_binary(test_data)"
   ]
  },
  {
   "cell_type": "code",
   "execution_count": 165,
   "id": "f3aef1a5",
   "metadata": {},
   "outputs": [],
   "source": [
    "analysis_approx = document_sentiment_analysis_binary(test_data,random_aprox=True)"
   ]
  },
  {
   "cell_type": "code",
   "execution_count": 167,
   "id": "ae8a0e9a",
   "metadata": {},
   "outputs": [
    {
     "data": {
      "text/plain": [
       "{'label': 'NEGATIVE', 'score': 0.5276921604360852}"
      ]
     },
     "execution_count": 167,
     "metadata": {},
     "output_type": "execute_result"
    }
   ],
   "source": [
    "analysis"
   ]
  },
  {
   "cell_type": "code",
   "execution_count": 168,
   "id": "37c4cffc",
   "metadata": {},
   "outputs": [
    {
     "data": {
      "text/plain": [
       "{'label': 'NEGATIVE', 'score': 0.46918564372592503}"
      ]
     },
     "execution_count": 168,
     "metadata": {},
     "output_type": "execute_result"
    }
   ],
   "source": [
    "analysis_approx"
   ]
  },
  {
   "cell_type": "code",
   "execution_count": null,
   "id": "602a8f66",
   "metadata": {},
   "outputs": [
    {
     "name": "stderr",
     "output_type": "stream",
     "text": [
      "Device set to use mps:0\n"
     ]
    }
   ],
   "source": [
    "# subjectivity detection in newspaper sentences\n",
    "# A sentence is subjective if its content is based on or influenced by personal feelings, tastes, or opinions. Otherwise, the sentence is objective. (Antici et al., 2023).\n",
    "# https://huggingface.co/GroNLP/mdebertav3-subjectivity-english\n",
    "# https://checkthat.gitlab.io/clef2023/task2/\n",
    "\n",
    "\n",
    "pipe = pipeline(\"text-classification\", model=\"GroNLP/mdebertav3-subjectivity-english\")"
   ]
  },
  {
   "cell_type": "code",
   "execution_count": 72,
   "id": "0c9c892a",
   "metadata": {},
   "outputs": [
    {
     "data": {
      "text/plain": [
       "[{'label': 'LABEL_0', 'score': 0.7450624704360962},\n",
       " {'label': 'LABEL_0', 'score': 0.7528149485588074},\n",
       " {'label': 'LABEL_0', 'score': 0.826611340045929},\n",
       " {'label': 'LABEL_0', 'score': 0.8640003800392151},\n",
       " {'label': 'LABEL_0', 'score': 0.9500696659088135},\n",
       " {'label': 'LABEL_0', 'score': 0.9030177593231201},\n",
       " {'label': 'LABEL_0', 'score': 0.9125306010246277}]"
      ]
     },
     "execution_count": 72,
     "metadata": {},
     "output_type": "execute_result"
    }
   ],
   "source": [
    "pipe(positive_text)"
   ]
  },
  {
   "cell_type": "code",
   "execution_count": 65,
   "id": "62c78437",
   "metadata": {},
   "outputs": [],
   "source": [
    "def document_sentiment_analysis(data : list[str]):\n",
    "\n",
    "    doc_analysis = {}\n",
    "    analysis = sentiment_pipeline(data)\n",
    "\n",
    "    unique_labels = np.unique([doc[\"label\"] for doc in analysis])\n",
    "\n",
    "    arg_max_labels = 0\n",
    "\n",
    "    for label in unique_labels:\n",
    "\n",
    "        label_prob = np.sum([doc_analysis[\"score\"] for doc_analysis in analysis if doc_analysis[\"label\"] == label ]) / len(analysis)\n",
    "\n",
    "        if arg_max_labels < label_prob:\n",
    "            doc_analysis[\"label\"] = label\n",
    "            doc_analysis[\"score\"] = label_prob\n",
    "\n",
    "    return doc_analysis"
   ]
  },
  {
   "cell_type": "markdown",
   "id": "f2b12944",
   "metadata": {},
   "source": [
    "## Multivariant Classification"
   ]
  },
  {
   "cell_type": "code",
   "execution_count": null,
   "id": "22ad72f1",
   "metadata": {},
   "outputs": [
    {
     "data": {
      "text/plain": [
       "array(['POSITIVE'], dtype='<U8')"
      ]
     },
     "execution_count": 63,
     "metadata": {},
     "output_type": "execute_result"
    }
   ],
   "source": [
    "unique_labels = np.unique([doc[\"label\"] for doc in analysis])"
   ]
  },
  {
   "cell_type": "code",
   "execution_count": 73,
   "id": "d3ab8ca5",
   "metadata": {},
   "outputs": [
    {
     "name": "stderr",
     "output_type": "stream",
     "text": [
      "Device set to use mps:0\n"
     ]
    }
   ],
   "source": [
    "# Multilingual GoEmotions Classifier\n",
    "pipe = pipeline(\"text-classification\", model=\"AnasAlokla/multilingual_go_emotions\")"
   ]
  },
  {
   "cell_type": "code",
   "execution_count": 74,
   "id": "0a68266a",
   "metadata": {},
   "outputs": [
    {
     "data": {
      "text/plain": [
       "[{'label': 'neutral', 'score': 0.9459356069564819},\n",
       " {'label': 'neutral', 'score': 0.8973721861839294},\n",
       " {'label': 'neutral', 'score': 0.9459723234176636},\n",
       " {'label': 'neutral', 'score': 0.8502932190895081},\n",
       " {'label': 'neutral', 'score': 0.946921169757843},\n",
       " {'label': 'neutral', 'score': 0.9041789770126343},\n",
       " {'label': 'neutral', 'score': 0.6865472793579102},\n",
       " {'label': 'neutral', 'score': 0.6713699102401733},\n",
       " {'label': 'neutral', 'score': 0.7492476105690002},\n",
       " {'label': 'neutral', 'score': 0.9403115510940552},\n",
       " {'label': 'neutral', 'score': 0.8996682167053223},\n",
       " {'label': 'optimism', 'score': 0.8210803866386414},\n",
       " {'label': 'neutral', 'score': 0.9212598204612732},\n",
       " {'label': 'neutral', 'score': 0.8895576596260071},\n",
       " {'label': 'neutral', 'score': 0.7807997465133667}]"
      ]
     },
     "execution_count": 74,
     "metadata": {},
     "output_type": "execute_result"
    }
   ],
   "source": [
    "pipe(negative_text)"
   ]
  },
  {
   "cell_type": "code",
   "execution_count": null,
   "id": "dc6c85e4",
   "metadata": {},
   "outputs": [],
   "source": []
  }
 ],
 "metadata": {
  "kernelspec": {
   "display_name": ".venv",
   "language": "python",
   "name": "python3"
  },
  "language_info": {
   "codemirror_mode": {
    "name": "ipython",
    "version": 3
   },
   "file_extension": ".py",
   "mimetype": "text/x-python",
   "name": "python",
   "nbconvert_exporter": "python",
   "pygments_lexer": "ipython3",
   "version": "3.10.9"
  }
 },
 "nbformat": 4,
 "nbformat_minor": 5
}
